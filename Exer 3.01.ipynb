{
 "cells": [
  {
   "cell_type": "code",
   "execution_count": 1,
   "id": "ca7e8d32",
   "metadata": {},
   "outputs": [],
   "source": [
    "import torch\n",
    "import torch.nn as nn\n",
    "import  torch.nn.functional as F"
   ]
  },
  {
   "cell_type": "code",
   "execution_count": 2,
   "id": "705206be",
   "metadata": {},
   "outputs": [],
   "source": [
    "D_i = 10\n",
    "D_h = 5\n",
    "D_o= 2"
   ]
  },
  {
   "cell_type": "code",
   "execution_count": 4,
   "id": "f5743173",
   "metadata": {},
   "outputs": [],
   "source": [
    "class  Classifier(torch.nn.Module):\n",
    "    def __init__(self, D_i, D_h, D_o):\n",
    "        super(Classifier, self).__init__()\n",
    "        self.linear1 = nn.Linear(D_i, D_h)\n",
    "        self.linear2 = nn.Linear(D_h, D_o)\n",
    "    def forward(self, x):\n",
    "        z = F.relu(self.linear1(x))\n",
    "        o = F.softmax(self.linear(z))\n",
    "        return o"
   ]
  },
  {
   "cell_type": "code",
   "execution_count": 8,
   "id": "83adca6f",
   "metadata": {},
   "outputs": [],
   "source": [
    "model = Classifier(D_i, D_h, D_o)"
   ]
  },
  {
   "cell_type": "code",
   "execution_count": 9,
   "id": "78db1c60",
   "metadata": {},
   "outputs": [
    {
     "name": "stdout",
     "output_type": "stream",
     "text": [
      "Classifier(\n",
      "  (linear1): Linear(in_features=10, out_features=5, bias=True)\n",
      "  (linear2): Linear(in_features=5, out_features=2, bias=True)\n",
      ")\n"
     ]
    }
   ],
   "source": [
    "print(model)"
   ]
  },
  {
   "cell_type": "code",
   "execution_count": 10,
   "id": "50d92028",
   "metadata": {},
   "outputs": [],
   "source": [
    "criterion = nn.NLLLoss()"
   ]
  },
  {
   "cell_type": "code",
   "execution_count": 13,
   "id": "b92e85aa",
   "metadata": {
    "scrolled": true
   },
   "outputs": [],
   "source": [
    "optimizer = optim.Adam(model.parameters(), lr = 0.005)\n",
    "epochs = 10\n",
    "batch_size = 100"
   ]
  },
  {
   "cell_type": "code",
   "execution_count": 12,
   "id": "67ce81a5",
   "metadata": {},
   "outputs": [],
   "source": [
    "import torch.optim  as optim"
   ]
  },
  {
   "cell_type": "code",
   "execution_count": null,
   "id": "93fd4465",
   "metadata": {},
   "outputs": [],
   "source": []
  }
 ],
 "metadata": {
  "kernelspec": {
   "display_name": "Python 3 (ipykernel)",
   "language": "python",
   "name": "python3"
  },
  "language_info": {
   "codemirror_mode": {
    "name": "ipython",
    "version": 3
   },
   "file_extension": ".py",
   "mimetype": "text/x-python",
   "name": "python",
   "nbconvert_exporter": "python",
   "pygments_lexer": "ipython3",
   "version": "3.10.11"
  }
 },
 "nbformat": 4,
 "nbformat_minor": 5
}
