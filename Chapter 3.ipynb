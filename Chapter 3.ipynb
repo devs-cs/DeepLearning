{
 "cells": [
  {
   "cell_type": "code",
   "execution_count": 1,
   "id": "1fc62b1a",
   "metadata": {},
   "outputs": [],
   "source": [
    "import pandas as pd"
   ]
  },
  {
   "cell_type": "code",
   "execution_count": 117,
   "id": "d1f67a50",
   "metadata": {},
   "outputs": [],
   "source": [
    "df = pd.read_csv('dccc_prepared.csv')"
   ]
  },
  {
   "cell_type": "code",
   "execution_count": 118,
   "id": "4acf23e3",
   "metadata": {},
   "outputs": [
    {
     "data": {
      "text/html": [
       "<div>\n",
       "<style scoped>\n",
       "    .dataframe tbody tr th:only-of-type {\n",
       "        vertical-align: middle;\n",
       "    }\n",
       "\n",
       "    .dataframe tbody tr th {\n",
       "        vertical-align: top;\n",
       "    }\n",
       "\n",
       "    .dataframe thead th {\n",
       "        text-align: right;\n",
       "    }\n",
       "</style>\n",
       "<table border=\"1\" class=\"dataframe\">\n",
       "  <thead>\n",
       "    <tr style=\"text-align: right;\">\n",
       "      <th></th>\n",
       "      <th>LIMIT_BAL</th>\n",
       "      <th>EDUCATION</th>\n",
       "      <th>MARRIAGE</th>\n",
       "      <th>AGE</th>\n",
       "      <th>PAY_0</th>\n",
       "      <th>PAY_2</th>\n",
       "      <th>PAY_3</th>\n",
       "      <th>PAY_4</th>\n",
       "      <th>PAY_5</th>\n",
       "      <th>PAY_6</th>\n",
       "      <th>...</th>\n",
       "      <th>BILL_AMT4</th>\n",
       "      <th>BILL_AMT5</th>\n",
       "      <th>BILL_AMT6</th>\n",
       "      <th>PAY_AMT1</th>\n",
       "      <th>PAY_AMT2</th>\n",
       "      <th>PAY_AMT3</th>\n",
       "      <th>PAY_AMT4</th>\n",
       "      <th>PAY_AMT5</th>\n",
       "      <th>PAY_AMT6</th>\n",
       "      <th>default payment next month</th>\n",
       "    </tr>\n",
       "  </thead>\n",
       "  <tbody>\n",
       "    <tr>\n",
       "      <th>0</th>\n",
       "      <td>0.080808</td>\n",
       "      <td>0.333333</td>\n",
       "      <td>0.666667</td>\n",
       "      <td>0.224138</td>\n",
       "      <td>0.2</td>\n",
       "      <td>0.2</td>\n",
       "      <td>0.2</td>\n",
       "      <td>0.2</td>\n",
       "      <td>0.2</td>\n",
       "      <td>0.2</td>\n",
       "      <td>...</td>\n",
       "      <td>0.173637</td>\n",
       "      <td>0.095470</td>\n",
       "      <td>0.272928</td>\n",
       "      <td>0.001738</td>\n",
       "      <td>0.000891</td>\n",
       "      <td>0.001116</td>\n",
       "      <td>0.001610</td>\n",
       "      <td>0.002345</td>\n",
       "      <td>0.009458</td>\n",
       "      <td>0</td>\n",
       "    </tr>\n",
       "    <tr>\n",
       "      <th>1</th>\n",
       "      <td>0.040404</td>\n",
       "      <td>0.333333</td>\n",
       "      <td>0.333333</td>\n",
       "      <td>0.275862</td>\n",
       "      <td>0.2</td>\n",
       "      <td>0.2</td>\n",
       "      <td>0.2</td>\n",
       "      <td>0.2</td>\n",
       "      <td>0.2</td>\n",
       "      <td>0.2</td>\n",
       "      <td>...</td>\n",
       "      <td>0.186809</td>\n",
       "      <td>0.109363</td>\n",
       "      <td>0.283685</td>\n",
       "      <td>0.002290</td>\n",
       "      <td>0.001199</td>\n",
       "      <td>0.001339</td>\n",
       "      <td>0.001771</td>\n",
       "      <td>0.002506</td>\n",
       "      <td>0.001892</td>\n",
       "      <td>0</td>\n",
       "    </tr>\n",
       "    <tr>\n",
       "      <th>2</th>\n",
       "      <td>0.040404</td>\n",
       "      <td>0.333333</td>\n",
       "      <td>0.333333</td>\n",
       "      <td>0.620690</td>\n",
       "      <td>0.1</td>\n",
       "      <td>0.2</td>\n",
       "      <td>0.1</td>\n",
       "      <td>0.2</td>\n",
       "      <td>0.2</td>\n",
       "      <td>0.2</td>\n",
       "      <td>...</td>\n",
       "      <td>0.179863</td>\n",
       "      <td>0.099633</td>\n",
       "      <td>0.275681</td>\n",
       "      <td>0.002290</td>\n",
       "      <td>0.021779</td>\n",
       "      <td>0.011160</td>\n",
       "      <td>0.014493</td>\n",
       "      <td>0.001615</td>\n",
       "      <td>0.001284</td>\n",
       "      <td>0</td>\n",
       "    </tr>\n",
       "    <tr>\n",
       "      <th>3</th>\n",
       "      <td>0.040404</td>\n",
       "      <td>0.166667</td>\n",
       "      <td>0.666667</td>\n",
       "      <td>0.275862</td>\n",
       "      <td>0.2</td>\n",
       "      <td>0.2</td>\n",
       "      <td>0.2</td>\n",
       "      <td>0.2</td>\n",
       "      <td>0.2</td>\n",
       "      <td>0.2</td>\n",
       "      <td>...</td>\n",
       "      <td>0.178407</td>\n",
       "      <td>0.100102</td>\n",
       "      <td>0.276367</td>\n",
       "      <td>0.002862</td>\n",
       "      <td>0.001078</td>\n",
       "      <td>0.000733</td>\n",
       "      <td>0.001610</td>\n",
       "      <td>0.002345</td>\n",
       "      <td>0.001513</td>\n",
       "      <td>0</td>\n",
       "    </tr>\n",
       "    <tr>\n",
       "      <th>4</th>\n",
       "      <td>0.494949</td>\n",
       "      <td>0.166667</td>\n",
       "      <td>0.666667</td>\n",
       "      <td>0.137931</td>\n",
       "      <td>0.2</td>\n",
       "      <td>0.2</td>\n",
       "      <td>0.2</td>\n",
       "      <td>0.2</td>\n",
       "      <td>0.2</td>\n",
       "      <td>0.2</td>\n",
       "      <td>...</td>\n",
       "      <td>0.671310</td>\n",
       "      <td>0.559578</td>\n",
       "      <td>0.625196</td>\n",
       "      <td>0.062961</td>\n",
       "      <td>0.023749</td>\n",
       "      <td>0.042409</td>\n",
       "      <td>0.032591</td>\n",
       "      <td>0.032237</td>\n",
       "      <td>0.026047</td>\n",
       "      <td>0</td>\n",
       "    </tr>\n",
       "  </tbody>\n",
       "</table>\n",
       "<p>5 rows × 23 columns</p>\n",
       "</div>"
      ],
      "text/plain": [
       "   LIMIT_BAL  EDUCATION  MARRIAGE       AGE  PAY_0  PAY_2  PAY_3  PAY_4  \\\n",
       "0   0.080808   0.333333  0.666667  0.224138    0.2    0.2    0.2    0.2   \n",
       "1   0.040404   0.333333  0.333333  0.275862    0.2    0.2    0.2    0.2   \n",
       "2   0.040404   0.333333  0.333333  0.620690    0.1    0.2    0.1    0.2   \n",
       "3   0.040404   0.166667  0.666667  0.275862    0.2    0.2    0.2    0.2   \n",
       "4   0.494949   0.166667  0.666667  0.137931    0.2    0.2    0.2    0.2   \n",
       "\n",
       "   PAY_5  PAY_6  ...  BILL_AMT4  BILL_AMT5  BILL_AMT6  PAY_AMT1  PAY_AMT2  \\\n",
       "0    0.2    0.2  ...   0.173637   0.095470   0.272928  0.001738  0.000891   \n",
       "1    0.2    0.2  ...   0.186809   0.109363   0.283685  0.002290  0.001199   \n",
       "2    0.2    0.2  ...   0.179863   0.099633   0.275681  0.002290  0.021779   \n",
       "3    0.2    0.2  ...   0.178407   0.100102   0.276367  0.002862  0.001078   \n",
       "4    0.2    0.2  ...   0.671310   0.559578   0.625196  0.062961  0.023749   \n",
       "\n",
       "   PAY_AMT3  PAY_AMT4  PAY_AMT5  PAY_AMT6  default payment next month  \n",
       "0  0.001116  0.001610  0.002345  0.009458                           0  \n",
       "1  0.001339  0.001771  0.002506  0.001892                           0  \n",
       "2  0.011160  0.014493  0.001615  0.001284                           0  \n",
       "3  0.000733  0.001610  0.002345  0.001513                           0  \n",
       "4  0.042409  0.032591  0.032237  0.026047                           0  \n",
       "\n",
       "[5 rows x 23 columns]"
      ]
     },
     "execution_count": 118,
     "metadata": {},
     "output_type": "execute_result"
    }
   ],
   "source": [
    "df.head()"
   ]
  },
  {
   "cell_type": "code",
   "execution_count": 5,
   "id": "15eb79e7",
   "metadata": {},
   "outputs": [],
   "source": [
    "target = df[\"default payment next month\"]"
   ]
  },
  {
   "cell_type": "code",
   "execution_count": 6,
   "id": "2227066e",
   "metadata": {},
   "outputs": [
    {
     "data": {
      "text/plain": [
       "0        False\n",
       "1        False\n",
       "2        False\n",
       "3        False\n",
       "4        False\n",
       "         ...  \n",
       "46723     True\n",
       "46724     True\n",
       "46725     True\n",
       "46726     True\n",
       "46727     True\n",
       "Name: default payment next month, Length: 46728, dtype: bool"
      ]
     },
     "execution_count": 6,
     "metadata": {},
     "output_type": "execute_result"
    }
   ],
   "source": [
    "target == 1"
   ]
  },
  {
   "cell_type": "code",
   "execution_count": 11,
   "id": "d8bb14e7",
   "metadata": {},
   "outputs": [
    {
     "data": {
      "text/plain": [
       "23364"
      ]
     },
     "execution_count": 11,
     "metadata": {},
     "output_type": "execute_result"
    }
   ],
   "source": [
    "\n",
    "target[target == 1].count()"
   ]
  },
  {
   "cell_type": "code",
   "execution_count": 12,
   "id": "93b2bf5f",
   "metadata": {},
   "outputs": [
    {
     "data": {
      "text/plain": [
       "23364"
      ]
     },
     "execution_count": 12,
     "metadata": {},
     "output_type": "execute_result"
    }
   ],
   "source": [
    "target[target==0].count()"
   ]
  },
  {
   "cell_type": "code",
   "execution_count": 13,
   "id": "8d8fa2b9",
   "metadata": {},
   "outputs": [
    {
     "data": {
      "text/plain": [
       "0         True\n",
       "1         True\n",
       "2         True\n",
       "3         True\n",
       "4         True\n",
       "         ...  \n",
       "46723    False\n",
       "46724    False\n",
       "46725    False\n",
       "46726    False\n",
       "46727    False\n",
       "Name: default payment next month, Length: 46728, dtype: bool"
      ]
     },
     "execution_count": 13,
     "metadata": {},
     "output_type": "execute_result"
    }
   ],
   "source": [
    "target == 0"
   ]
  },
  {
   "cell_type": "code",
   "execution_count": 14,
   "id": "f090e484",
   "metadata": {},
   "outputs": [
    {
     "name": "stdout",
     "output_type": "stream",
     "text": [
      "yes %:  50.0 - no %: 50.0\n"
     ]
    }
   ],
   "source": [
    "yes = target[target==1].count()\n",
    "no = target[target==0].count()\n",
    "print(\"yes %: \", str(yes/len(target)*100) + \" - no %: \" + str(no/len(target)*100))"
   ]
  },
  {
   "cell_type": "code",
   "execution_count": 15,
   "id": "c8e16a32",
   "metadata": {},
   "outputs": [],
   "source": [
    "import pandas as pd"
   ]
  },
  {
   "cell_type": "code",
   "execution_count": 16,
   "id": "63b3dab7",
   "metadata": {},
   "outputs": [],
   "source": [
    "import numpy as np"
   ]
  },
  {
   "cell_type": "code",
   "execution_count": 23,
   "id": "5098c811",
   "metadata": {},
   "outputs": [],
   "source": [
    "import sklearn"
   ]
  },
  {
   "cell_type": "code",
   "execution_count": 24,
   "id": "c469bc7a",
   "metadata": {},
   "outputs": [],
   "source": [
    "from  sklearn.model_selection  import  train_test_split\n",
    "from sklearn.utils import  shuffle"
   ]
  },
  {
   "cell_type": "code",
   "execution_count": 25,
   "id": "fe685e69",
   "metadata": {},
   "outputs": [],
   "source": [
    "from  sklearn.metrics import  accuracy_score"
   ]
  },
  {
   "cell_type": "code",
   "execution_count": 27,
   "id": "d7bd5b6f",
   "metadata": {},
   "outputs": [],
   "source": [
    "import torch\n",
    "from torch import nn,  optim\n",
    "import torch.nn.functional  as  F\n",
    "import matplotlib.pyplot as plt"
   ]
  },
  {
   "cell_type": "code",
   "execution_count": 28,
   "id": "dd55bab5",
   "metadata": {},
   "outputs": [
    {
     "ename": "NameError",
     "evalue": "name 'data' is not defined",
     "output_type": "error",
     "traceback": [
      "\u001b[1;31m---------------------------------------------------------------------------\u001b[0m",
      "\u001b[1;31mNameError\u001b[0m                                 Traceback (most recent call last)",
      "Cell \u001b[1;32mIn[28], line 1\u001b[0m\n\u001b[1;32m----> 1\u001b[0m \u001b[43mdata\u001b[49m\u001b[38;5;241m.\u001b[39mhead()\n",
      "\u001b[1;31mNameError\u001b[0m: name 'data' is not defined"
     ]
    }
   ],
   "source": [
    "data.head()"
   ]
  },
  {
   "cell_type": "code",
   "execution_count": 29,
   "id": "988e9f0d",
   "metadata": {},
   "outputs": [
    {
     "data": {
      "text/html": [
       "<div>\n",
       "<style scoped>\n",
       "    .dataframe tbody tr th:only-of-type {\n",
       "        vertical-align: middle;\n",
       "    }\n",
       "\n",
       "    .dataframe tbody tr th {\n",
       "        vertical-align: top;\n",
       "    }\n",
       "\n",
       "    .dataframe thead th {\n",
       "        text-align: right;\n",
       "    }\n",
       "</style>\n",
       "<table border=\"1\" class=\"dataframe\">\n",
       "  <thead>\n",
       "    <tr style=\"text-align: right;\">\n",
       "      <th></th>\n",
       "      <th>LIMIT_BAL</th>\n",
       "      <th>EDUCATION</th>\n",
       "      <th>MARRIAGE</th>\n",
       "      <th>AGE</th>\n",
       "      <th>PAY_0</th>\n",
       "      <th>PAY_2</th>\n",
       "      <th>PAY_3</th>\n",
       "      <th>PAY_4</th>\n",
       "      <th>PAY_5</th>\n",
       "      <th>PAY_6</th>\n",
       "      <th>...</th>\n",
       "      <th>BILL_AMT4</th>\n",
       "      <th>BILL_AMT5</th>\n",
       "      <th>BILL_AMT6</th>\n",
       "      <th>PAY_AMT1</th>\n",
       "      <th>PAY_AMT2</th>\n",
       "      <th>PAY_AMT3</th>\n",
       "      <th>PAY_AMT4</th>\n",
       "      <th>PAY_AMT5</th>\n",
       "      <th>PAY_AMT6</th>\n",
       "      <th>default payment next month</th>\n",
       "    </tr>\n",
       "  </thead>\n",
       "  <tbody>\n",
       "    <tr>\n",
       "      <th>0</th>\n",
       "      <td>0.080808</td>\n",
       "      <td>0.333333</td>\n",
       "      <td>0.666667</td>\n",
       "      <td>0.224138</td>\n",
       "      <td>0.2</td>\n",
       "      <td>0.2</td>\n",
       "      <td>0.2</td>\n",
       "      <td>0.2</td>\n",
       "      <td>0.2</td>\n",
       "      <td>0.2</td>\n",
       "      <td>...</td>\n",
       "      <td>0.173637</td>\n",
       "      <td>0.095470</td>\n",
       "      <td>0.272928</td>\n",
       "      <td>0.001738</td>\n",
       "      <td>0.000891</td>\n",
       "      <td>0.001116</td>\n",
       "      <td>0.001610</td>\n",
       "      <td>0.002345</td>\n",
       "      <td>0.009458</td>\n",
       "      <td>0</td>\n",
       "    </tr>\n",
       "    <tr>\n",
       "      <th>1</th>\n",
       "      <td>0.040404</td>\n",
       "      <td>0.333333</td>\n",
       "      <td>0.333333</td>\n",
       "      <td>0.275862</td>\n",
       "      <td>0.2</td>\n",
       "      <td>0.2</td>\n",
       "      <td>0.2</td>\n",
       "      <td>0.2</td>\n",
       "      <td>0.2</td>\n",
       "      <td>0.2</td>\n",
       "      <td>...</td>\n",
       "      <td>0.186809</td>\n",
       "      <td>0.109363</td>\n",
       "      <td>0.283685</td>\n",
       "      <td>0.002290</td>\n",
       "      <td>0.001199</td>\n",
       "      <td>0.001339</td>\n",
       "      <td>0.001771</td>\n",
       "      <td>0.002506</td>\n",
       "      <td>0.001892</td>\n",
       "      <td>0</td>\n",
       "    </tr>\n",
       "    <tr>\n",
       "      <th>2</th>\n",
       "      <td>0.040404</td>\n",
       "      <td>0.333333</td>\n",
       "      <td>0.333333</td>\n",
       "      <td>0.620690</td>\n",
       "      <td>0.1</td>\n",
       "      <td>0.2</td>\n",
       "      <td>0.1</td>\n",
       "      <td>0.2</td>\n",
       "      <td>0.2</td>\n",
       "      <td>0.2</td>\n",
       "      <td>...</td>\n",
       "      <td>0.179863</td>\n",
       "      <td>0.099633</td>\n",
       "      <td>0.275681</td>\n",
       "      <td>0.002290</td>\n",
       "      <td>0.021779</td>\n",
       "      <td>0.011160</td>\n",
       "      <td>0.014493</td>\n",
       "      <td>0.001615</td>\n",
       "      <td>0.001284</td>\n",
       "      <td>0</td>\n",
       "    </tr>\n",
       "    <tr>\n",
       "      <th>3</th>\n",
       "      <td>0.040404</td>\n",
       "      <td>0.166667</td>\n",
       "      <td>0.666667</td>\n",
       "      <td>0.275862</td>\n",
       "      <td>0.2</td>\n",
       "      <td>0.2</td>\n",
       "      <td>0.2</td>\n",
       "      <td>0.2</td>\n",
       "      <td>0.2</td>\n",
       "      <td>0.2</td>\n",
       "      <td>...</td>\n",
       "      <td>0.178407</td>\n",
       "      <td>0.100102</td>\n",
       "      <td>0.276367</td>\n",
       "      <td>0.002862</td>\n",
       "      <td>0.001078</td>\n",
       "      <td>0.000733</td>\n",
       "      <td>0.001610</td>\n",
       "      <td>0.002345</td>\n",
       "      <td>0.001513</td>\n",
       "      <td>0</td>\n",
       "    </tr>\n",
       "    <tr>\n",
       "      <th>4</th>\n",
       "      <td>0.494949</td>\n",
       "      <td>0.166667</td>\n",
       "      <td>0.666667</td>\n",
       "      <td>0.137931</td>\n",
       "      <td>0.2</td>\n",
       "      <td>0.2</td>\n",
       "      <td>0.2</td>\n",
       "      <td>0.2</td>\n",
       "      <td>0.2</td>\n",
       "      <td>0.2</td>\n",
       "      <td>...</td>\n",
       "      <td>0.671310</td>\n",
       "      <td>0.559578</td>\n",
       "      <td>0.625196</td>\n",
       "      <td>0.062961</td>\n",
       "      <td>0.023749</td>\n",
       "      <td>0.042409</td>\n",
       "      <td>0.032591</td>\n",
       "      <td>0.032237</td>\n",
       "      <td>0.026047</td>\n",
       "      <td>0</td>\n",
       "    </tr>\n",
       "  </tbody>\n",
       "</table>\n",
       "<p>5 rows × 23 columns</p>\n",
       "</div>"
      ],
      "text/plain": [
       "   LIMIT_BAL  EDUCATION  MARRIAGE       AGE  PAY_0  PAY_2  PAY_3  PAY_4  \\\n",
       "0   0.080808   0.333333  0.666667  0.224138    0.2    0.2    0.2    0.2   \n",
       "1   0.040404   0.333333  0.333333  0.275862    0.2    0.2    0.2    0.2   \n",
       "2   0.040404   0.333333  0.333333  0.620690    0.1    0.2    0.1    0.2   \n",
       "3   0.040404   0.166667  0.666667  0.275862    0.2    0.2    0.2    0.2   \n",
       "4   0.494949   0.166667  0.666667  0.137931    0.2    0.2    0.2    0.2   \n",
       "\n",
       "   PAY_5  PAY_6  ...  BILL_AMT4  BILL_AMT5  BILL_AMT6  PAY_AMT1  PAY_AMT2  \\\n",
       "0    0.2    0.2  ...   0.173637   0.095470   0.272928  0.001738  0.000891   \n",
       "1    0.2    0.2  ...   0.186809   0.109363   0.283685  0.002290  0.001199   \n",
       "2    0.2    0.2  ...   0.179863   0.099633   0.275681  0.002290  0.021779   \n",
       "3    0.2    0.2  ...   0.178407   0.100102   0.276367  0.002862  0.001078   \n",
       "4    0.2    0.2  ...   0.671310   0.559578   0.625196  0.062961  0.023749   \n",
       "\n",
       "   PAY_AMT3  PAY_AMT4  PAY_AMT5  PAY_AMT6  default payment next month  \n",
       "0  0.001116  0.001610  0.002345  0.009458                           0  \n",
       "1  0.001339  0.001771  0.002506  0.001892                           0  \n",
       "2  0.011160  0.014493  0.001615  0.001284                           0  \n",
       "3  0.000733  0.001610  0.002345  0.001513                           0  \n",
       "4  0.042409  0.032591  0.032237  0.026047                           0  \n",
       "\n",
       "[5 rows x 23 columns]"
      ]
     },
     "execution_count": 29,
     "metadata": {},
     "output_type": "execute_result"
    }
   ],
   "source": [
    "df.head()"
   ]
  },
  {
   "cell_type": "code",
   "execution_count": 119,
   "id": "936459fb",
   "metadata": {},
   "outputs": [
    {
     "data": {
      "text/html": [
       "<div>\n",
       "<style scoped>\n",
       "    .dataframe tbody tr th:only-of-type {\n",
       "        vertical-align: middle;\n",
       "    }\n",
       "\n",
       "    .dataframe tbody tr th {\n",
       "        vertical-align: top;\n",
       "    }\n",
       "\n",
       "    .dataframe thead th {\n",
       "        text-align: right;\n",
       "    }\n",
       "</style>\n",
       "<table border=\"1\" class=\"dataframe\">\n",
       "  <thead>\n",
       "    <tr style=\"text-align: right;\">\n",
       "      <th></th>\n",
       "      <th>LIMIT_BAL</th>\n",
       "      <th>EDUCATION</th>\n",
       "      <th>MARRIAGE</th>\n",
       "      <th>AGE</th>\n",
       "      <th>PAY_0</th>\n",
       "      <th>PAY_2</th>\n",
       "      <th>PAY_3</th>\n",
       "      <th>PAY_4</th>\n",
       "      <th>PAY_5</th>\n",
       "      <th>PAY_6</th>\n",
       "      <th>...</th>\n",
       "      <th>BILL_AMT3</th>\n",
       "      <th>BILL_AMT4</th>\n",
       "      <th>BILL_AMT5</th>\n",
       "      <th>BILL_AMT6</th>\n",
       "      <th>PAY_AMT1</th>\n",
       "      <th>PAY_AMT2</th>\n",
       "      <th>PAY_AMT3</th>\n",
       "      <th>PAY_AMT4</th>\n",
       "      <th>PAY_AMT5</th>\n",
       "      <th>PAY_AMT6</th>\n",
       "    </tr>\n",
       "  </thead>\n",
       "  <tbody>\n",
       "    <tr>\n",
       "      <th>0</th>\n",
       "      <td>0.080808</td>\n",
       "      <td>0.333333</td>\n",
       "      <td>0.666667</td>\n",
       "      <td>0.224138</td>\n",
       "      <td>0.2</td>\n",
       "      <td>0.2</td>\n",
       "      <td>0.2</td>\n",
       "      <td>0.2</td>\n",
       "      <td>0.2</td>\n",
       "      <td>0.2</td>\n",
       "      <td>...</td>\n",
       "      <td>0.093789</td>\n",
       "      <td>0.173637</td>\n",
       "      <td>0.095470</td>\n",
       "      <td>0.272928</td>\n",
       "      <td>0.001738</td>\n",
       "      <td>0.000891</td>\n",
       "      <td>0.001116</td>\n",
       "      <td>0.001610</td>\n",
       "      <td>0.002345</td>\n",
       "      <td>0.009458</td>\n",
       "    </tr>\n",
       "    <tr>\n",
       "      <th>1</th>\n",
       "      <td>0.040404</td>\n",
       "      <td>0.333333</td>\n",
       "      <td>0.333333</td>\n",
       "      <td>0.275862</td>\n",
       "      <td>0.2</td>\n",
       "      <td>0.2</td>\n",
       "      <td>0.2</td>\n",
       "      <td>0.2</td>\n",
       "      <td>0.2</td>\n",
       "      <td>0.2</td>\n",
       "      <td>...</td>\n",
       "      <td>0.113407</td>\n",
       "      <td>0.186809</td>\n",
       "      <td>0.109363</td>\n",
       "      <td>0.283685</td>\n",
       "      <td>0.002290</td>\n",
       "      <td>0.001199</td>\n",
       "      <td>0.001339</td>\n",
       "      <td>0.001771</td>\n",
       "      <td>0.002506</td>\n",
       "      <td>0.001892</td>\n",
       "    </tr>\n",
       "    <tr>\n",
       "      <th>2</th>\n",
       "      <td>0.040404</td>\n",
       "      <td>0.333333</td>\n",
       "      <td>0.333333</td>\n",
       "      <td>0.620690</td>\n",
       "      <td>0.1</td>\n",
       "      <td>0.2</td>\n",
       "      <td>0.1</td>\n",
       "      <td>0.2</td>\n",
       "      <td>0.2</td>\n",
       "      <td>0.2</td>\n",
       "      <td>...</td>\n",
       "      <td>0.106020</td>\n",
       "      <td>0.179863</td>\n",
       "      <td>0.099633</td>\n",
       "      <td>0.275681</td>\n",
       "      <td>0.002290</td>\n",
       "      <td>0.021779</td>\n",
       "      <td>0.011160</td>\n",
       "      <td>0.014493</td>\n",
       "      <td>0.001615</td>\n",
       "      <td>0.001284</td>\n",
       "    </tr>\n",
       "    <tr>\n",
       "      <th>3</th>\n",
       "      <td>0.040404</td>\n",
       "      <td>0.166667</td>\n",
       "      <td>0.666667</td>\n",
       "      <td>0.275862</td>\n",
       "      <td>0.2</td>\n",
       "      <td>0.2</td>\n",
       "      <td>0.2</td>\n",
       "      <td>0.2</td>\n",
       "      <td>0.2</td>\n",
       "      <td>0.2</td>\n",
       "      <td>...</td>\n",
       "      <td>0.117974</td>\n",
       "      <td>0.178407</td>\n",
       "      <td>0.100102</td>\n",
       "      <td>0.276367</td>\n",
       "      <td>0.002862</td>\n",
       "      <td>0.001078</td>\n",
       "      <td>0.000733</td>\n",
       "      <td>0.001610</td>\n",
       "      <td>0.002345</td>\n",
       "      <td>0.001513</td>\n",
       "    </tr>\n",
       "    <tr>\n",
       "      <th>4</th>\n",
       "      <td>0.494949</td>\n",
       "      <td>0.166667</td>\n",
       "      <td>0.666667</td>\n",
       "      <td>0.137931</td>\n",
       "      <td>0.2</td>\n",
       "      <td>0.2</td>\n",
       "      <td>0.2</td>\n",
       "      <td>0.2</td>\n",
       "      <td>0.2</td>\n",
       "      <td>0.2</td>\n",
       "      <td>...</td>\n",
       "      <td>0.330672</td>\n",
       "      <td>0.671310</td>\n",
       "      <td>0.559578</td>\n",
       "      <td>0.625196</td>\n",
       "      <td>0.062961</td>\n",
       "      <td>0.023749</td>\n",
       "      <td>0.042409</td>\n",
       "      <td>0.032591</td>\n",
       "      <td>0.032237</td>\n",
       "      <td>0.026047</td>\n",
       "    </tr>\n",
       "    <tr>\n",
       "      <th>...</th>\n",
       "      <td>...</td>\n",
       "      <td>...</td>\n",
       "      <td>...</td>\n",
       "      <td>...</td>\n",
       "      <td>...</td>\n",
       "      <td>...</td>\n",
       "      <td>...</td>\n",
       "      <td>...</td>\n",
       "      <td>...</td>\n",
       "      <td>...</td>\n",
       "      <td>...</td>\n",
       "      <td>...</td>\n",
       "      <td>...</td>\n",
       "      <td>...</td>\n",
       "      <td>...</td>\n",
       "      <td>...</td>\n",
       "      <td>...</td>\n",
       "      <td>...</td>\n",
       "      <td>...</td>\n",
       "      <td>...</td>\n",
       "      <td>...</td>\n",
       "    </tr>\n",
       "    <tr>\n",
       "      <th>46723</th>\n",
       "      <td>0.030303</td>\n",
       "      <td>0.166667</td>\n",
       "      <td>0.666667</td>\n",
       "      <td>0.034483</td>\n",
       "      <td>0.4</td>\n",
       "      <td>0.4</td>\n",
       "      <td>0.4</td>\n",
       "      <td>0.2</td>\n",
       "      <td>0.2</td>\n",
       "      <td>0.2</td>\n",
       "      <td>...</td>\n",
       "      <td>0.097913</td>\n",
       "      <td>0.180315</td>\n",
       "      <td>0.103520</td>\n",
       "      <td>0.279179</td>\n",
       "      <td>0.001717</td>\n",
       "      <td>0.000594</td>\n",
       "      <td>0.001116</td>\n",
       "      <td>0.003221</td>\n",
       "      <td>0.002345</td>\n",
       "      <td>0.001691</td>\n",
       "    </tr>\n",
       "    <tr>\n",
       "      <th>46724</th>\n",
       "      <td>0.040404</td>\n",
       "      <td>0.500000</td>\n",
       "      <td>0.333333</td>\n",
       "      <td>0.534483</td>\n",
       "      <td>0.2</td>\n",
       "      <td>0.2</td>\n",
       "      <td>0.4</td>\n",
       "      <td>0.1</td>\n",
       "      <td>0.2</td>\n",
       "      <td>0.2</td>\n",
       "      <td>...</td>\n",
       "      <td>0.086535</td>\n",
       "      <td>0.173872</td>\n",
       "      <td>0.091784</td>\n",
       "      <td>0.269281</td>\n",
       "      <td>0.001896</td>\n",
       "      <td>0.000000</td>\n",
       "      <td>0.016272</td>\n",
       "      <td>0.000805</td>\n",
       "      <td>0.001074</td>\n",
       "      <td>0.001651</td>\n",
       "    </tr>\n",
       "    <tr>\n",
       "      <th>46725</th>\n",
       "      <td>0.252525</td>\n",
       "      <td>0.333333</td>\n",
       "      <td>0.333333</td>\n",
       "      <td>0.362069</td>\n",
       "      <td>0.5</td>\n",
       "      <td>0.5</td>\n",
       "      <td>0.4</td>\n",
       "      <td>0.4</td>\n",
       "      <td>0.2</td>\n",
       "      <td>0.2</td>\n",
       "      <td>...</td>\n",
       "      <td>0.203707</td>\n",
       "      <td>0.356844</td>\n",
       "      <td>0.291934</td>\n",
       "      <td>0.428001</td>\n",
       "      <td>0.000000</td>\n",
       "      <td>0.004750</td>\n",
       "      <td>0.000000</td>\n",
       "      <td>0.012560</td>\n",
       "      <td>0.018287</td>\n",
       "      <td>0.015700</td>\n",
       "    </tr>\n",
       "    <tr>\n",
       "      <th>46726</th>\n",
       "      <td>0.020202</td>\n",
       "      <td>0.333333</td>\n",
       "      <td>0.333333</td>\n",
       "      <td>0.551724</td>\n",
       "      <td>0.2</td>\n",
       "      <td>0.2</td>\n",
       "      <td>0.2</td>\n",
       "      <td>0.2</td>\n",
       "      <td>0.2</td>\n",
       "      <td>0.4</td>\n",
       "      <td>...</td>\n",
       "      <td>0.095343</td>\n",
       "      <td>0.176827</td>\n",
       "      <td>0.099904</td>\n",
       "      <td>0.275557</td>\n",
       "      <td>0.001717</td>\n",
       "      <td>0.000891</td>\n",
       "      <td>0.001786</td>\n",
       "      <td>0.003221</td>\n",
       "      <td>0.000000</td>\n",
       "      <td>0.002837</td>\n",
       "    </tr>\n",
       "    <tr>\n",
       "      <th>46727</th>\n",
       "      <td>0.373737</td>\n",
       "      <td>0.500000</td>\n",
       "      <td>0.333333</td>\n",
       "      <td>0.603448</td>\n",
       "      <td>0.0</td>\n",
       "      <td>0.0</td>\n",
       "      <td>0.0</td>\n",
       "      <td>0.0</td>\n",
       "      <td>0.0</td>\n",
       "      <td>0.0</td>\n",
       "      <td>...</td>\n",
       "      <td>0.089610</td>\n",
       "      <td>0.175902</td>\n",
       "      <td>0.087038</td>\n",
       "      <td>0.260979</td>\n",
       "      <td>0.001544</td>\n",
       "      <td>0.003537</td>\n",
       "      <td>0.018677</td>\n",
       "      <td>0.010377</td>\n",
       "      <td>0.000000</td>\n",
       "      <td>0.014563</td>\n",
       "    </tr>\n",
       "  </tbody>\n",
       "</table>\n",
       "<p>46728 rows × 22 columns</p>\n",
       "</div>"
      ],
      "text/plain": [
       "       LIMIT_BAL  EDUCATION  MARRIAGE       AGE  PAY_0  PAY_2  PAY_3  PAY_4  \\\n",
       "0       0.080808   0.333333  0.666667  0.224138    0.2    0.2    0.2    0.2   \n",
       "1       0.040404   0.333333  0.333333  0.275862    0.2    0.2    0.2    0.2   \n",
       "2       0.040404   0.333333  0.333333  0.620690    0.1    0.2    0.1    0.2   \n",
       "3       0.040404   0.166667  0.666667  0.275862    0.2    0.2    0.2    0.2   \n",
       "4       0.494949   0.166667  0.666667  0.137931    0.2    0.2    0.2    0.2   \n",
       "...          ...        ...       ...       ...    ...    ...    ...    ...   \n",
       "46723   0.030303   0.166667  0.666667  0.034483    0.4    0.4    0.4    0.2   \n",
       "46724   0.040404   0.500000  0.333333  0.534483    0.2    0.2    0.4    0.1   \n",
       "46725   0.252525   0.333333  0.333333  0.362069    0.5    0.5    0.4    0.4   \n",
       "46726   0.020202   0.333333  0.333333  0.551724    0.2    0.2    0.2    0.2   \n",
       "46727   0.373737   0.500000  0.333333  0.603448    0.0    0.0    0.0    0.0   \n",
       "\n",
       "       PAY_5  PAY_6  ...  BILL_AMT3  BILL_AMT4  BILL_AMT5  BILL_AMT6  \\\n",
       "0        0.2    0.2  ...   0.093789   0.173637   0.095470   0.272928   \n",
       "1        0.2    0.2  ...   0.113407   0.186809   0.109363   0.283685   \n",
       "2        0.2    0.2  ...   0.106020   0.179863   0.099633   0.275681   \n",
       "3        0.2    0.2  ...   0.117974   0.178407   0.100102   0.276367   \n",
       "4        0.2    0.2  ...   0.330672   0.671310   0.559578   0.625196   \n",
       "...      ...    ...  ...        ...        ...        ...        ...   \n",
       "46723    0.2    0.2  ...   0.097913   0.180315   0.103520   0.279179   \n",
       "46724    0.2    0.2  ...   0.086535   0.173872   0.091784   0.269281   \n",
       "46725    0.2    0.2  ...   0.203707   0.356844   0.291934   0.428001   \n",
       "46726    0.2    0.4  ...   0.095343   0.176827   0.099904   0.275557   \n",
       "46727    0.0    0.0  ...   0.089610   0.175902   0.087038   0.260979   \n",
       "\n",
       "       PAY_AMT1  PAY_AMT2  PAY_AMT3  PAY_AMT4  PAY_AMT5  PAY_AMT6  \n",
       "0      0.001738  0.000891  0.001116  0.001610  0.002345  0.009458  \n",
       "1      0.002290  0.001199  0.001339  0.001771  0.002506  0.001892  \n",
       "2      0.002290  0.021779  0.011160  0.014493  0.001615  0.001284  \n",
       "3      0.002862  0.001078  0.000733  0.001610  0.002345  0.001513  \n",
       "4      0.062961  0.023749  0.042409  0.032591  0.032237  0.026047  \n",
       "...         ...       ...       ...       ...       ...       ...  \n",
       "46723  0.001717  0.000594  0.001116  0.003221  0.002345  0.001691  \n",
       "46724  0.001896  0.000000  0.016272  0.000805  0.001074  0.001651  \n",
       "46725  0.000000  0.004750  0.000000  0.012560  0.018287  0.015700  \n",
       "46726  0.001717  0.000891  0.001786  0.003221  0.000000  0.002837  \n",
       "46727  0.001544  0.003537  0.018677  0.010377  0.000000  0.014563  \n",
       "\n",
       "[46728 rows x 22 columns]"
      ]
     },
     "execution_count": 119,
     "metadata": {},
     "output_type": "execute_result"
    }
   ],
   "source": [
    "df.drop(columns = [\"default payment next month\"])"
   ]
  },
  {
   "cell_type": "code",
   "execution_count": 120,
   "id": "c2caf39e",
   "metadata": {},
   "outputs": [],
   "source": [
    "data  =  df.sample(frac = 1, random_state = 0)\n",
    "y  = target.sample(frac = 1, random_state = 0)"
   ]
  },
  {
   "cell_type": "code",
   "execution_count": 121,
   "id": "e228d864",
   "metadata": {},
   "outputs": [],
   "source": [
    "x_new, x_test, y_new, y_test  = train_test_split(data, y,  test_size = 0.2, random_state = 0)"
   ]
  },
  {
   "cell_type": "code",
   "execution_count": 122,
   "id": "e5d14167",
   "metadata": {},
   "outputs": [],
   "source": [
    "x_train, x_dev, y_train, y_dev = train_test_split(x_new, y_new, test_size = 0.25, random_state = 0)"
   ]
  },
  {
   "cell_type": "code",
   "execution_count": 123,
   "id": "9192e4aa",
   "metadata": {},
   "outputs": [
    {
     "data": {
      "text/plain": [
       "(28036, 23)"
      ]
     },
     "execution_count": 123,
     "metadata": {},
     "output_type": "execute_result"
    }
   ],
   "source": [
    "x_train.shape"
   ]
  },
  {
   "cell_type": "code",
   "execution_count": 124,
   "id": "5a0d8fb7",
   "metadata": {},
   "outputs": [
    {
     "data": {
      "text/plain": [
       "(9346, 23)"
      ]
     },
     "execution_count": 124,
     "metadata": {},
     "output_type": "execute_result"
    }
   ],
   "source": [
    "x_dev.shape"
   ]
  },
  {
   "cell_type": "code",
   "execution_count": 125,
   "id": "6b72addd",
   "metadata": {},
   "outputs": [
    {
     "data": {
      "text/plain": [
       "(9346, 23)"
      ]
     },
     "execution_count": 125,
     "metadata": {},
     "output_type": "execute_result"
    }
   ],
   "source": [
    "x_test.shape"
   ]
  },
  {
   "cell_type": "code",
   "execution_count": 126,
   "id": "e5d6bbf3",
   "metadata": {},
   "outputs": [],
   "source": [
    "x_train = torch.tensor(x_train.values).float()\n"
   ]
  },
  {
   "cell_type": "code",
   "execution_count": 127,
   "id": "d1fb2cac",
   "metadata": {},
   "outputs": [],
   "source": [
    "x_dev = torch.tensor(x_dev.values).float()"
   ]
  },
  {
   "cell_type": "code",
   "execution_count": 128,
   "id": "840e2d9c",
   "metadata": {},
   "outputs": [],
   "source": [
    "x_test = torch.tensor(x_test.values).float()"
   ]
  },
  {
   "cell_type": "code",
   "execution_count": 216,
   "id": "e27cd03f",
   "metadata": {},
   "outputs": [],
   "source": [
    "class Classifier(nn.Module):\n",
    "\n",
    "    def __init__(self, input_size):\n",
    "\n",
    "        super().__init__()\n",
    "\n",
    "        self.hidden_1 = nn.Linear(input_size, 10)\n",
    "\n",
    "        self.hidden_2 = nn.Linear(10, 10)\n",
    "\n",
    "        self.hidden_3 = nn.Linear(10, 10)\n",
    "\n",
    "        self.output = nn.Linear(10, 2)\n",
    "\n",
    "    def forward(self, x):\n",
    "\n",
    "        z = F.relu(self.hidden_1(x))\n",
    "\n",
    "        z = F.relu(self.hidden_2(z))\n",
    "\n",
    "        z = F.relu(self.hidden_3(z))\n",
    "\n",
    "        out = F.log_softmax(self.output(z), dim=1)\n",
    "\n",
    "        return out\n",
    "    "
   ]
  },
  {
   "cell_type": "code",
   "execution_count": 226,
   "id": "91de3d17",
   "metadata": {},
   "outputs": [],
   "source": [
    "model = Classifier(x_train.shape[1])\n",
    "\n",
    "loss_funct = nn.NLLLoss()\n",
    "\n",
    "optimizer = optim.Adam(model.parameters(), lr=0.001)\n",
    "\n",
    "epochs = 50\n",
    "\n",
    "batch = 128"
   ]
  },
  {
   "cell_type": "code",
   "execution_count": 227,
   "id": "31980df2",
   "metadata": {},
   "outputs": [
    {
     "name": "stdout",
     "output_type": "stream",
     "text": [
      "Classifier(\n",
      "  (hidden_1): Linear(in_features=22, out_features=10, bias=True)\n",
      "  (hidden_2): Linear(in_features=10, out_features=10, bias=True)\n",
      "  (hidden_3): Linear(in_features=10, out_features=10, bias=True)\n",
      "  (output): Linear(in_features=10, out_features=2, bias=True)\n",
      ")\n"
     ]
    }
   ],
   "source": [
    "print(model)"
   ]
  },
  {
   "cell_type": "code",
   "execution_count": 137,
   "id": "18b993fe",
   "metadata": {
    "scrolled": true
   },
   "outputs": [
    {
     "data": {
      "text/plain": [
       "tensor([[1],\n",
       "        [1],\n",
       "        [0],\n",
       "        ...,\n",
       "        [0],\n",
       "        [0],\n",
       "        [0]])"
      ]
     },
     "execution_count": 137,
     "metadata": {},
     "output_type": "execute_result"
    }
   ],
   "source": [
    "y_dev.reshape(len(y_dev),1,)"
   ]
  },
  {
   "cell_type": "code",
   "execution_count": 138,
   "id": "663bc745",
   "metadata": {},
   "outputs": [
    {
     "ename": "RuntimeError",
     "evalue": "Could not infer dtype of builtin_function_or_method",
     "output_type": "error",
     "traceback": [
      "\u001b[1;31m---------------------------------------------------------------------------\u001b[0m",
      "\u001b[1;31mRuntimeError\u001b[0m                              Traceback (most recent call last)",
      "Cell \u001b[1;32mIn[138], line 1\u001b[0m\n\u001b[1;32m----> 1\u001b[0m y_train \u001b[38;5;241m=\u001b[39m \u001b[43mtorch\u001b[49m\u001b[38;5;241;43m.\u001b[39;49m\u001b[43mtensor\u001b[49m\u001b[43m(\u001b[49m\u001b[43my_train\u001b[49m\u001b[38;5;241;43m.\u001b[39;49m\u001b[43mvalues\u001b[49m\u001b[43m)\u001b[49m\n",
      "\u001b[1;31mRuntimeError\u001b[0m: Could not infer dtype of builtin_function_or_method"
     ]
    }
   ],
   "source": [
    "y_train = torch.tensor(y_train.values)"
   ]
  },
  {
   "cell_type": "code",
   "execution_count": 184,
   "id": "d2a84eee",
   "metadata": {},
   "outputs": [
    {
     "data": {
      "text/plain": [
       "torch.Size([28036, 22])"
      ]
     },
     "execution_count": 184,
     "metadata": {},
     "output_type": "execute_result"
    }
   ],
   "source": [
    "x_train.shape"
   ]
  },
  {
   "cell_type": "code",
   "execution_count": 228,
   "id": "51dd4357",
   "metadata": {},
   "outputs": [
    {
     "name": "stdout",
     "output_type": "stream",
     "text": [
      "Epoch: 1/50..  Training Loss: 0.677.. Validation Loss: 0.637.. Training Accuracy: 0.588.. Validation Accuracy: 0.661..\n",
      "Epoch: 2/50..  Training Loss: 0.614.. Validation Loss: 0.597.. Training Accuracy: 0.673.. Validation Accuracy: 0.683..\n",
      "Epoch: 3/50..  Training Loss: 0.592.. Validation Loss: 0.592.. Training Accuracy: 0.691.. Validation Accuracy: 0.680..\n",
      "Epoch: 4/50..  Training Loss: 0.586.. Validation Loss: 0.584.. Training Accuracy: 0.697.. Validation Accuracy: 0.695..\n",
      "Epoch: 5/50..  Training Loss: 0.584.. Validation Loss: 0.582.. Training Accuracy: 0.699.. Validation Accuracy: 0.697..\n",
      "Epoch: 6/50..  Training Loss: 0.582.. Validation Loss: 0.581.. Training Accuracy: 0.699.. Validation Accuracy: 0.699..\n",
      "Epoch: 7/50..  Training Loss: 0.580.. Validation Loss: 0.582.. Training Accuracy: 0.701.. Validation Accuracy: 0.700..\n",
      "Epoch: 8/50..  Training Loss: 0.579.. Validation Loss: 0.578.. Training Accuracy: 0.702.. Validation Accuracy: 0.701..\n",
      "Epoch: 9/50..  Training Loss: 0.577.. Validation Loss: 0.577.. Training Accuracy: 0.703.. Validation Accuracy: 0.702..\n",
      "Epoch: 10/50..  Training Loss: 0.576.. Validation Loss: 0.577.. Training Accuracy: 0.705.. Validation Accuracy: 0.703..\n",
      "Epoch: 11/50..  Training Loss: 0.575.. Validation Loss: 0.576.. Training Accuracy: 0.706.. Validation Accuracy: 0.704..\n",
      "Epoch: 12/50..  Training Loss: 0.574.. Validation Loss: 0.574.. Training Accuracy: 0.706.. Validation Accuracy: 0.704..\n",
      "Epoch: 13/50..  Training Loss: 0.573.. Validation Loss: 0.576.. Training Accuracy: 0.706.. Validation Accuracy: 0.704..\n",
      "Epoch: 14/50..  Training Loss: 0.572.. Validation Loss: 0.573.. Training Accuracy: 0.708.. Validation Accuracy: 0.705..\n",
      "Epoch: 15/50..  Training Loss: 0.571.. Validation Loss: 0.572.. Training Accuracy: 0.707.. Validation Accuracy: 0.707..\n",
      "Epoch: 16/50..  Training Loss: 0.570.. Validation Loss: 0.571.. Training Accuracy: 0.707.. Validation Accuracy: 0.707..\n",
      "Epoch: 17/50..  Training Loss: 0.570.. Validation Loss: 0.570.. Training Accuracy: 0.709.. Validation Accuracy: 0.707..\n",
      "Epoch: 18/50..  Training Loss: 0.568.. Validation Loss: 0.569.. Training Accuracy: 0.710.. Validation Accuracy: 0.706..\n",
      "Epoch: 19/50..  Training Loss: 0.569.. Validation Loss: 0.571.. Training Accuracy: 0.709.. Validation Accuracy: 0.704..\n",
      "Epoch: 20/50..  Training Loss: 0.568.. Validation Loss: 0.569.. Training Accuracy: 0.708.. Validation Accuracy: 0.710..\n",
      "Epoch: 21/50..  Training Loss: 0.567.. Validation Loss: 0.568.. Training Accuracy: 0.710.. Validation Accuracy: 0.707..\n",
      "Epoch: 22/50..  Training Loss: 0.566.. Validation Loss: 0.567.. Training Accuracy: 0.711.. Validation Accuracy: 0.709..\n",
      "Epoch: 23/50..  Training Loss: 0.565.. Validation Loss: 0.566.. Training Accuracy: 0.711.. Validation Accuracy: 0.708..\n",
      "Epoch: 24/50..  Training Loss: 0.566.. Validation Loss: 0.566.. Training Accuracy: 0.711.. Validation Accuracy: 0.710..\n",
      "Epoch: 25/50..  Training Loss: 0.565.. Validation Loss: 0.565.. Training Accuracy: 0.712.. Validation Accuracy: 0.710..\n",
      "Epoch: 26/50..  Training Loss: 0.564.. Validation Loss: 0.567.. Training Accuracy: 0.714.. Validation Accuracy: 0.707..\n",
      "Epoch: 27/50..  Training Loss: 0.564.. Validation Loss: 0.565.. Training Accuracy: 0.711.. Validation Accuracy: 0.712..\n",
      "Epoch: 28/50..  Training Loss: 0.564.. Validation Loss: 0.565.. Training Accuracy: 0.711.. Validation Accuracy: 0.708..\n",
      "Epoch: 29/50..  Training Loss: 0.562.. Validation Loss: 0.563.. Training Accuracy: 0.713.. Validation Accuracy: 0.711..\n",
      "Epoch: 30/50..  Training Loss: 0.563.. Validation Loss: 0.563.. Training Accuracy: 0.712.. Validation Accuracy: 0.711..\n",
      "Epoch: 31/50..  Training Loss: 0.563.. Validation Loss: 0.569.. Training Accuracy: 0.713.. Validation Accuracy: 0.710..\n",
      "Epoch: 32/50..  Training Loss: 0.562.. Validation Loss: 0.565.. Training Accuracy: 0.715.. Validation Accuracy: 0.706..\n",
      "Epoch: 33/50..  Training Loss: 0.562.. Validation Loss: 0.564.. Training Accuracy: 0.714.. Validation Accuracy: 0.709..\n",
      "Epoch: 34/50..  Training Loss: 0.561.. Validation Loss: 0.563.. Training Accuracy: 0.713.. Validation Accuracy: 0.711..\n",
      "Epoch: 35/50..  Training Loss: 0.561.. Validation Loss: 0.564.. Training Accuracy: 0.714.. Validation Accuracy: 0.713..\n",
      "Epoch: 36/50..  Training Loss: 0.561.. Validation Loss: 0.563.. Training Accuracy: 0.715.. Validation Accuracy: 0.713..\n",
      "Epoch: 37/50..  Training Loss: 0.560.. Validation Loss: 0.561.. Training Accuracy: 0.714.. Validation Accuracy: 0.712..\n",
      "Epoch: 38/50..  Training Loss: 0.560.. Validation Loss: 0.563.. Training Accuracy: 0.714.. Validation Accuracy: 0.712..\n",
      "Epoch: 39/50..  Training Loss: 0.561.. Validation Loss: 0.562.. Training Accuracy: 0.714.. Validation Accuracy: 0.713..\n",
      "Epoch: 40/50..  Training Loss: 0.560.. Validation Loss: 0.562.. Training Accuracy: 0.714.. Validation Accuracy: 0.710..\n",
      "Epoch: 41/50..  Training Loss: 0.559.. Validation Loss: 0.561.. Training Accuracy: 0.715.. Validation Accuracy: 0.711..\n",
      "Epoch: 42/50..  Training Loss: 0.559.. Validation Loss: 0.561.. Training Accuracy: 0.714.. Validation Accuracy: 0.711..\n",
      "Epoch: 43/50..  Training Loss: 0.559.. Validation Loss: 0.563.. Training Accuracy: 0.715.. Validation Accuracy: 0.712..\n",
      "Epoch: 44/50..  Training Loss: 0.559.. Validation Loss: 0.562.. Training Accuracy: 0.715.. Validation Accuracy: 0.710..\n",
      "Epoch: 45/50..  Training Loss: 0.559.. Validation Loss: 0.562.. Training Accuracy: 0.714.. Validation Accuracy: 0.710..\n",
      "Epoch: 46/50..  Training Loss: 0.559.. Validation Loss: 0.568.. Training Accuracy: 0.716.. Validation Accuracy: 0.710..\n",
      "Epoch: 47/50..  Training Loss: 0.559.. Validation Loss: 0.560.. Training Accuracy: 0.714.. Validation Accuracy: 0.712..\n",
      "Epoch: 48/50..  Training Loss: 0.560.. Validation Loss: 0.561.. Training Accuracy: 0.714.. Validation Accuracy: 0.711..\n",
      "Epoch: 49/50..  Training Loss: 0.559.. Validation Loss: 0.560.. Training Accuracy: 0.714.. Validation Accuracy: 0.712..\n",
      "Epoch: 50/50..  Training Loss: 0.559.. Validation Loss: 0.559.. Training Accuracy: 0.715.. Validation Accuracy: 0.712..\n"
     ]
    }
   ],
   "source": [
    "train_loss,  train_acc,  dev_loss, dev_acc = [], [], [], []\n",
    "for i in range(epochs):\n",
    "    x,y  = shuffle(x_train, y_train)\n",
    "    cur_loss = 0\n",
    "    cur_acc  = 0\n",
    "    iterations = 0\n",
    "    for j in range(x.shape[0]//batch-1):\n",
    "        iterations+=1\n",
    "        x_sample = x[j*batch: (j+1)*batch, :]\n",
    "        y_sample = y[j*batch: (j+1)*batch]\n",
    "        pred =  model(x_sample)\n",
    "        loss = loss_funct(pred, y_sample)\n",
    "        optimizer.zero_grad()\n",
    "        loss.backward()\n",
    "        optimizer.step()\n",
    "        cur_loss += loss.item()\n",
    "        ps = torch.exp(pred)\n",
    "        top_p, top_class = ps.topk(1, dim = 1) \n",
    "        cur_acc += accuracy_score(y_sample, top_class) \n",
    "    dev_l = 0\n",
    "    dev_a = 0\n",
    "    with  torch.no_grad():\n",
    "        pred_dev = model(x_dev)\n",
    "        dev_l = loss_funct(pred_dev, y_dev).item()\n",
    "        ps_dev = torch.exp(pred_dev)\n",
    "        top_p_dev, top_class_dev = ps_dev.topk(1, dim = 1)\n",
    "        dev_a = accuracy_score(y_dev, top_class_dev)\n",
    "    train_loss.append(cur_loss/iterations)\n",
    "    train_acc.append(cur_acc/iterations)\n",
    "    dev_loss.append(dev_l)\n",
    "    dev_acc.append(dev_a)\n",
    "    print(\"Epoch: {}/{}.. \".format(i+1, epochs),\n",
    "          \"Training Loss: {:.3f}..\".format(cur_loss/iterations),\n",
    "          \"Validation Loss: {:.3f}..\".format(dev_l),\n",
    "          \"Training Accuracy: {:.3f}..\".format(cur_acc/iterations),\n",
    "          \"Validation Accuracy: {:.3f}..\".format(dev_a))\n",
    "    \n",
    "    \n",
    "        \n",
    "        \n",
    "        \n",
    "    \n"
   ]
  },
  {
   "cell_type": "code",
   "execution_count": 98,
   "id": "c23de2b7",
   "metadata": {},
   "outputs": [
    {
     "data": {
      "text/plain": [
       "[]"
      ]
     },
     "execution_count": 98,
     "metadata": {},
     "output_type": "execute_result"
    }
   ],
   "source": [
    "dev_loss"
   ]
  },
  {
   "cell_type": "code",
   "execution_count": 102,
   "id": "aee88d18",
   "metadata": {},
   "outputs": [
    {
     "data": {
      "text/plain": [
       "tensor([[-23.3546,   0.0000],\n",
       "        [-23.7574,   0.0000],\n",
       "        [  0.0000, -23.6228],\n",
       "        ...,\n",
       "        [  0.0000, -19.4000],\n",
       "        [  0.0000, -18.7742],\n",
       "        [  0.0000, -17.6173]], grad_fn=<LogSoftmaxBackward0>)"
      ]
     },
     "execution_count": 102,
     "metadata": {},
     "output_type": "execute_result"
    }
   ],
   "source": [
    "model(x_test)"
   ]
  },
  {
   "cell_type": "code",
   "execution_count": 103,
   "id": "ec033a1c",
   "metadata": {},
   "outputs": [
    {
     "data": {
      "text/plain": [
       "tensor([[7.1983e-11, 1.0000e+00],\n",
       "        [4.8116e-11, 1.0000e+00],\n",
       "        [1.0000e+00, 5.5047e-11],\n",
       "        ...,\n",
       "        [1.0000e+00, 3.7556e-09],\n",
       "        [1.0000e+00, 7.0223e-09],\n",
       "        [1.0000e+00, 2.2331e-08]], grad_fn=<ExpBackward0>)"
      ]
     },
     "execution_count": 103,
     "metadata": {},
     "output_type": "execute_result"
    }
   ],
   "source": [
    "torch.exp(model(x_test))"
   ]
  },
  {
   "cell_type": "code",
   "execution_count": 104,
   "id": "811a023e",
   "metadata": {},
   "outputs": [
    {
     "data": {
      "text/plain": [
       "tensor([1, 1, 0,  ..., 0, 0, 0])"
      ]
     },
     "execution_count": 104,
     "metadata": {},
     "output_type": "execute_result"
    }
   ],
   "source": [
    "y_test"
   ]
  },
  {
   "cell_type": "code",
   "execution_count": 229,
   "id": "0b77652e",
   "metadata": {},
   "outputs": [
    {
     "data": {
      "image/png": "[encoded data removed]",
      "text/plain": [
       "<Figure size 1500x500 with 1 Axes>"
      ]
     },
     "metadata": {},
     "output_type": "display_data"
    }
   ],
   "source": [
    "fig = plt.figure(figsize=(15, 5))\n",
    "\n",
    "plt.plot(train_loss, label='Training loss')\n",
    "\n",
    "plt.plot(dev_loss, label='Validation loss')\n",
    "\n",
    "plt.legend(frameon=False, fontsize=15)\n",
    "\n",
    "plt.show()"
   ]
  },
  {
   "cell_type": "code",
   "execution_count": 115,
   "id": "e9b0fee0",
   "metadata": {},
   "outputs": [
    {
     "name": "stdout",
     "output_type": "stream",
     "text": [
      "tensor([0.1717, 0.3333, 0.6667, 0.1724, 0.2000, 0.2000, 0.2000, 0.0000, 0.0000,\n",
      "        0.0000, 0.2617, 0.0782, 0.0863, 0.1601, 0.0806, 0.2610, 0.0013, 0.0000,\n",
      "        0.0000, 0.0000, 0.0000, 0.0000, 0.0000])\n"
     ]
    }
   ],
   "source": [
    "print(x[0])"
   ]
  },
  {
   "cell_type": "code",
   "execution_count": 116,
   "id": "0b9c0df1",
   "metadata": {},
   "outputs": [
    {
     "name": "stdout",
     "output_type": "stream",
     "text": [
      "tensor(0)\n"
     ]
    }
   ],
   "source": [
    "print(y[0])"
   ]
  },
  {
   "cell_type": "code",
   "execution_count": 151,
   "id": "23f77fb6",
   "metadata": {},
   "outputs": [],
   "source": [
    "pred = model(x_test)\n",
    "dev_l = loss_funct(pred, y_test).item()\n",
    "ps = torch.exp(pred)\n",
    "top_p, top_class = ps.topk(1, dim = 1)\n",
    "dev_a = accuracy_score(y_test, top_class)"
   ]
  },
  {
   "cell_type": "code",
   "execution_count": 152,
   "id": "e15d1c85",
   "metadata": {},
   "outputs": [
    {
     "data": {
      "text/plain": [
       "1.0"
      ]
     },
     "execution_count": 152,
     "metadata": {},
     "output_type": "execute_result"
    }
   ],
   "source": [
    "dev_a"
   ]
  },
  {
   "cell_type": "code",
   "execution_count": 148,
   "id": "f41a2b2d",
   "metadata": {},
   "outputs": [
    {
     "data": {
      "text/plain": [
       "0.7201627492904663"
      ]
     },
     "execution_count": 148,
     "metadata": {},
     "output_type": "execute_result"
    }
   ],
   "source": [
    "dev_l"
   ]
  },
  {
   "cell_type": "code",
   "execution_count": 164,
   "id": "9177ec7e",
   "metadata": {},
   "outputs": [
    {
     "data": {
      "text/plain": [
       "tensor([[-1.3736e+01, -1.0729e-06]], grad_fn=<LogSoftmaxBackward0>)"
      ]
     },
     "execution_count": 164,
     "metadata": {},
     "output_type": "execute_result"
    }
   ],
   "source": [
    "model(x[0:1,  :])"
   ]
  },
  {
   "cell_type": "code",
   "execution_count": 163,
   "id": "3ec46b52",
   "metadata": {},
   "outputs": [
    {
     "data": {
      "text/plain": [
       "tensor([1, 1, 0,  ..., 0, 1, 1])"
      ]
     },
     "execution_count": 163,
     "metadata": {},
     "output_type": "execute_result"
    }
   ],
   "source": [
    "y"
   ]
  },
  {
   "cell_type": "code",
   "execution_count": 165,
   "id": "eed6429b",
   "metadata": {},
   "outputs": [
    {
     "data": {
      "text/plain": [
       "tensor([[0.0909, 0.5000, 0.3333,  ..., 0.0000, 0.0025, 1.0000],\n",
       "        [0.1616, 0.1667, 0.6667,  ..., 0.0129, 0.0019, 1.0000],\n",
       "        [0.1515, 0.3333, 0.3333,  ..., 0.0094, 0.0076, 0.0000],\n",
       "        ...,\n",
       "        [0.0505, 0.5000, 0.3333,  ..., 0.0061, 0.0019, 0.0000],\n",
       "        [0.0404, 0.1667, 0.6667,  ..., 0.0057, 0.0057, 1.0000],\n",
       "        [0.0101, 0.5000, 0.3333,  ..., 0.0023, 0.0019, 1.0000]])"
      ]
     },
     "execution_count": 165,
     "metadata": {},
     "output_type": "execute_result"
    }
   ],
   "source": [
    "x"
   ]
  },
  {
   "cell_type": "code",
   "execution_count": 166,
   "id": "ec9a42e7",
   "metadata": {},
   "outputs": [
    {
     "data": {
      "text/plain": [
       "tensor([[0.1010, 0.3333, 0.3333,  ..., 0.0070, 0.0057, 1.0000],\n",
       "        [0.1111, 0.1667, 0.6667,  ..., 0.0000, 0.0000, 1.0000],\n",
       "        [0.3636, 0.5000, 0.6667,  ..., 0.1314, 0.0114, 0.0000],\n",
       "        ...,\n",
       "        [0.2222, 0.1667, 0.3333,  ..., 0.0098, 0.0038, 0.0000],\n",
       "        [0.2525, 0.3333, 0.3333,  ..., 0.0081, 0.0132, 0.0000],\n",
       "        [0.0404, 0.5000, 0.3333,  ..., 0.0013, 0.0038, 0.0000]])"
      ]
     },
     "execution_count": 166,
     "metadata": {},
     "output_type": "execute_result"
    }
   ],
   "source": [
    "x_test"
   ]
  },
  {
   "cell_type": "code",
   "execution_count": 183,
   "id": "7cd8933a",
   "metadata": {},
   "outputs": [],
   "source": [
    "x_train = x_train[:, :-1]"
   ]
  },
  {
   "cell_type": "code",
   "execution_count": 168,
   "id": "debcbd64",
   "metadata": {},
   "outputs": [
    {
     "data": {
      "text/plain": [
       "tensor([[1.0101e-01, 3.3333e-01, 3.3333e-01,  ..., 4.0258e-03, 7.0406e-03,\n",
       "         5.6747e-03],\n",
       "        [1.1111e-01, 1.6667e-01, 6.6667e-01,  ..., 2.6570e-04, 0.0000e+00,\n",
       "         0.0000e+00],\n",
       "        [3.6364e-01, 5.0000e-01, 6.6667e-01,  ..., 1.1224e-02, 1.3137e-01,\n",
       "         1.1397e-02],\n",
       "        ...,\n",
       "        [2.2222e-01, 1.6667e-01, 3.3333e-01,  ..., 6.9082e-03, 9.7625e-03,\n",
       "         3.7831e-03],\n",
       "        [2.5253e-01, 3.3333e-01, 3.3333e-01,  ..., 5.1079e-03, 8.1425e-03,\n",
       "         1.3230e-02],\n",
       "        [4.0404e-02, 5.0000e-01, 3.3333e-01,  ..., 4.8309e-03, 1.2989e-03,\n",
       "         3.7831e-03]])"
      ]
     },
     "execution_count": 168,
     "metadata": {},
     "output_type": "execute_result"
    }
   ],
   "source": [
    "x_test"
   ]
  },
  {
   "cell_type": "code",
   "execution_count": 222,
   "id": "f12a2f37",
   "metadata": {},
   "outputs": [
    {
     "data": {
      "image/png": "[encoded data removed]",
      "text/plain": [
       "<Figure size 1500x500 with 1 Axes>"
      ]
     },
     "metadata": {},
     "output_type": "display_data"
    }
   ],
   "source": [
    "fig = plt.figure(figsize=(15, 5))\n",
    "\n",
    "plt.plot(train_acc, label=\"Training accuracy\")\n",
    "\n",
    "plt.plot(dev_acc, label=\"Validation accuracy\")\n",
    "\n",
    "plt.legend(frameon=False, fontsize=15)\n",
    "\n",
    "plt.show()"
   ]
  },
  {
   "cell_type": "code",
   "execution_count": 208,
   "id": "4cd4e493",
   "metadata": {},
   "outputs": [
    {
     "name": "stdout",
     "output_type": "stream",
     "text": [
      "Classifier(\n",
      "  (linear1): Linear(in_features=22, out_features=10, bias=True)\n",
      "  (linear2): Linear(in_features=10, out_features=10, bias=True)\n",
      "  (linear3): Linear(in_features=10, out_features=10, bias=True)\n",
      "  (linear4): Linear(in_features=10, out_features=2, bias=True)\n",
      ")\n"
     ]
    }
   ],
   "source": [
    "print(model)"
   ]
  },
  {
   "cell_type": "code",
   "execution_count": null,
   "id": "53ae3955",
   "metadata": {},
   "outputs": [],
   "source": []
  }
 ],
 "metadata": {
  "kernelspec": {
   "display_name": "Python 3 (ipykernel)",
   "language": "python",
   "name": "python3"
  },
  "language_info": {
   "codemirror_mode": {
    "name": "ipython",
    "version": 3
   },
   "file_extension": ".py",
   "mimetype": "text/x-python",
   "name": "python",
   "nbconvert_exporter": "python",
   "pygments_lexer": "ipython3",
   "version": "3.10.11"
  }
 },
 "nbformat": 4,
 "nbformat_minor": 5
}
