{
 "cells": [
  {
   "cell_type": "code",
   "execution_count": 3,
   "id": "6a8bf67f",
   "metadata": {},
   "outputs": [],
   "source": [
    "import pandas as pd\n",
    "import numpy as np\n",
    "import torch\n",
    "from  torch import nn, optim\n",
    "import torch.nn.functional as F \n",
    "import matplotlib.pyplot as plt\n",
    "from string import punctuation\n",
    "from sklearn.metrics import accuracy_score\n"
   ]
  },
  {
   "cell_type": "code",
   "execution_count": 11,
   "id": "18e6506d",
   "metadata": {},
   "outputs": [],
   "source": [
    "data_init = pd.read_csv(\"amazon_cells_labelled.txt\", sep = \"\\t\", header = None)"
   ]
  },
  {
   "cell_type": "code",
   "execution_count": 9,
   "id": "b7756d4c",
   "metadata": {},
   "outputs": [
    {
     "name": "stderr",
     "output_type": "stream",
     "text": [
      "C:\\Users\\devan\\AppData\\Local\\Temp\\ipykernel_16772\\277504227.py:2: FutureWarning: The default value of regex will change from True to False in a future version. In addition, single character regular expressions will *not* be treated as literal strings when regex=True.\n",
      "  data[0] = data[0].str.replace(i, \"\")\n"
     ]
    }
   ],
   "source": [
    "for i in punctuation:\n",
    "    data[0] = data[0].str.replace(i, \"\")"
   ]
  },
  {
   "cell_type": "code",
   "execution_count": 27,
   "id": "405cd2d3",
   "metadata": {},
   "outputs": [],
   "source": [
    "reviews = data.iloc[:,0].str.lower()\n",
    "sentiment = data[1].values"
   ]
  },
  {
   "cell_type": "code",
   "execution_count": 40,
   "id": "6335b295",
   "metadata": {},
   "outputs": [],
   "source": [
    "words = ' '.join(reviews)\n",
    "words = words.split()"
   ]
  },
  {
   "cell_type": "code",
   "execution_count": 44,
   "id": "85501543",
   "metadata": {},
   "outputs": [],
   "source": [
    "indexer = {word: index for (index, word) in enumerate(list(set(words)))}"
   ]
  },
  {
   "cell_type": "code",
   "execution_count": 43,
   "id": "05181aaf",
   "metadata": {},
   "outputs": [
    {
     "ename": "KeyError",
     "evalue": "'s'",
     "output_type": "error",
     "traceback": [
      "\u001b[1;31m---------------------------------------------------------------------------\u001b[0m",
      "\u001b[1;31mKeyError\u001b[0m                                  Traceback (most recent call last)",
      "Cell \u001b[1;32mIn[43], line 1\u001b[0m\n\u001b[1;32m----> 1\u001b[0m \u001b[43mindexer\u001b[49m\u001b[43m[\u001b[49m\u001b[38;5;124;43m'\u001b[39;49m\u001b[38;5;124;43ms\u001b[39;49m\u001b[38;5;124;43m'\u001b[39;49m\u001b[43m]\u001b[49m\n",
      "\u001b[1;31mKeyError\u001b[0m: 's'"
     ]
    }
   ],
   "source": []
  },
  {
   "cell_type": "code",
   "execution_count": 45,
   "id": "46030867",
   "metadata": {},
   "outputs": [],
   "source": [
    "indexed_reviews = []\n",
    "for review in reviews:\n",
    "    indexed_reviews.append([indexer[word] for word in review.split()])"
   ]
  },
  {
   "cell_type": "code",
   "execution_count": null,
   "id": "d0e84bde",
   "metadata": {},
   "outputs": [],
   "source": [
    "  '''def forward(self, x):\n",
    "        out = self.embedding(x)\n",
    "        out, _ = self.lstm(out)\n",
    "        out = out.contiguous().view(-1, self.hidden_size)\n",
    "        out = self.output(out)\n",
    "        out = out[-1,0]\n",
    "        out = torch.sigmoid(out).unsqueeze(0)\n",
    "        return out'''"
   ]
  },
  {
   "cell_type": "code",
   "execution_count": 115,
   "id": "8a33d7ac",
   "metadata": {},
   "outputs": [],
   "source": [
    "class LSTM(nn.Module):\n",
    "    def __init__(self, vocab_size, embed_dim, hidden_size, n_layers):\n",
    "        super().__init__()\n",
    "        self.hidden_size = hidden_size\n",
    "        self.embedding = nn.Embedding(vocab_size, embed_dim)\n",
    "        self.lstm = nn.LSTM(embed_dim, hidden_size, n_layers, batch_first = True)\n",
    "        self.output = nn.Linear(hidden_size, 1)\n",
    "    def forward(self,  x):\n",
    "        out = self.embedding(x)\n",
    "#         print(out.shape)\n",
    "        out, state = self.lstm(out)\n",
    "#         print(out.shape)\n",
    "        out = out.contiguous().view(-1,  self.hidden_size)\n",
    "        print(out.shape)\n",
    "        out = self.output(out)\n",
    "        print(out.shape)\n",
    "        out = torch.sigmoid(out).unsqueeze(0)\n",
    "        print(out.shape)\n",
    "        out = out[-1, -1]\n",
    "        print(out.shape)\n",
    "        out = torch.sigmoid(out).unsqueeze(0)\n",
    "        print(out.shape)\n",
    "        print(\"done\")\n",
    "        return out"
   ]
  },
  {
   "cell_type": "code",
   "execution_count": 116,
   "id": "5bcdc772",
   "metadata": {},
   "outputs": [
    {
     "data": {
      "text/plain": [
       "LSTM(\n",
       "  (embedding): Embedding(1905, 64)\n",
       "  (lstm): LSTM(64, 128, num_layers=3, batch_first=True)\n",
       "  (output): Linear(in_features=128, out_features=1, bias=True)\n",
       ")"
      ]
     },
     "execution_count": 116,
     "metadata": {},
     "output_type": "execute_result"
    }
   ],
   "source": [
    "model = LSTM(len(indexer), 64, 128, 3)\n",
    "model"
   ]
  },
  {
   "cell_type": "code",
   "execution_count": 117,
   "id": "9df36bcb",
   "metadata": {},
   "outputs": [],
   "source": [
    "loss_function = nn.BCELoss()\n",
    "\n",
    "optimizer = optim.Adam(model.parameters(), lr=0.001)\n",
    "\n",
    "epochs = 10"
   ]
  },
  {
   "cell_type": "code",
   "execution_count": 120,
   "id": "4e90252d",
   "metadata": {},
   "outputs": [
    {
     "name": "stdout",
     "output_type": "stream",
     "text": [
      "Epoch:  1 ... Loss function:  0.6420136964645694 ... Accuracy:  0\n",
      "Epoch:  2 ... Loss function:  0.47061644874886055 ... Accuracy:  0\n",
      "Epoch:  3 ... Loss function:  0.32483265519594695 ... Accuracy:  0\n",
      "Epoch:  4 ... Loss function:  0.23858983721584082 ... Accuracy:  0\n",
      "Epoch:  5 ... Loss function:  0.14235232906756637 ... Accuracy:  0\n",
      "Epoch:  6 ... Loss function:  0.08337759355132766 ... Accuracy:  0\n",
      "Epoch:  7 ... Loss function:  0.06005842961165754 ... Accuracy:  0\n",
      "Epoch:  8 ... Loss function:  0.059374022819907585 ... Accuracy:  0\n",
      "Epoch:  9 ... Loss function:  0.0316375541807655 ... Accuracy:  0\n",
      "Epoch:  10 ... Loss function:  0.022348778906553072 ... Accuracy:  0\n"
     ]
    }
   ],
   "source": [
    "losses = []\n",
    "\n",
    "acc = []\n",
    "\n",
    "for e in range(1, epochs+1):\n",
    "\n",
    "    single_loss = []\n",
    "\n",
    "    preds = []\n",
    "\n",
    "    targets = []\n",
    "\n",
    "    for i, r in enumerate(indexed_reviews):\n",
    "\n",
    "        if len(r) <= 1:\n",
    "\n",
    "            continue\n",
    "\n",
    "        x = torch.Tensor([r]).long()\n",
    "\n",
    "        y = torch.Tensor([sentiment[i]])\n",
    "\n",
    "        pred = model(x)\n",
    "\n",
    "        loss = loss_function(pred, y)\n",
    "\n",
    "        optimizer.zero_grad()\n",
    "\n",
    "        loss.backward()\n",
    "\n",
    "        optimizer.step()\n",
    "\n",
    "        final_pred = np.round(pred.detach().numpy())\n",
    "\n",
    "        preds.append(final_pred)\n",
    "\n",
    "        targets.append(y.item())\n",
    "\n",
    "        single_loss.append(loss.item())\n",
    "\n",
    "    losses.append(np.mean(single_loss))\n",
    "\n",
    "    accuracy = 0\n",
    "\n",
    "    acc.append(accuracy)\n",
    "\n",
    "    if e%1 == 0:\n",
    "\n",
    "        print(\"Epoch: \", e, \"... Loss function: \", losses[-1],\"... Accuracy: \", acc[-1])"
   ]
  },
  {
   "cell_type": "code",
   "execution_count": 142,
   "id": "2f635ae7",
   "metadata": {},
   "outputs": [
    {
     "ename": "KeyError",
     "evalue": "'sarcasm'",
     "output_type": "error",
     "traceback": [
      "\u001b[1;31m---------------------------------------------------------------------------\u001b[0m",
      "\u001b[1;31mKeyError\u001b[0m                                  Traceback (most recent call last)",
      "Cell \u001b[1;32mIn[142], line 2\u001b[0m\n\u001b[0;32m      1\u001b[0m review \u001b[38;5;241m=\u001b[39m \u001b[38;5;124m\"\u001b[39m\u001b[38;5;124msarcasm\u001b[39m\u001b[38;5;124m\"\u001b[39m\n\u001b[1;32m----> 2\u001b[0m pred \u001b[38;5;241m=\u001b[39m  model(torch\u001b[38;5;241m.\u001b[39mtensor([indexer[word] \u001b[38;5;28;01mfor\u001b[39;00m word \u001b[38;5;129;01min\u001b[39;00m review\u001b[38;5;241m.\u001b[39msplit()]))\n\u001b[0;32m      3\u001b[0m \u001b[38;5;28mprint\u001b[39m(pred\u001b[38;5;241m.\u001b[39mitem())\n",
      "Cell \u001b[1;32mIn[142], line 2\u001b[0m, in \u001b[0;36m<listcomp>\u001b[1;34m(.0)\u001b[0m\n\u001b[0;32m      1\u001b[0m review \u001b[38;5;241m=\u001b[39m \u001b[38;5;124m\"\u001b[39m\u001b[38;5;124msarcasm\u001b[39m\u001b[38;5;124m\"\u001b[39m\n\u001b[1;32m----> 2\u001b[0m pred \u001b[38;5;241m=\u001b[39m  model(torch\u001b[38;5;241m.\u001b[39mtensor([\u001b[43mindexer\u001b[49m\u001b[43m[\u001b[49m\u001b[43mword\u001b[49m\u001b[43m]\u001b[49m \u001b[38;5;28;01mfor\u001b[39;00m word \u001b[38;5;129;01min\u001b[39;00m review\u001b[38;5;241m.\u001b[39msplit()]))\n\u001b[0;32m      3\u001b[0m \u001b[38;5;28mprint\u001b[39m(pred\u001b[38;5;241m.\u001b[39mitem())\n",
      "\u001b[1;31mKeyError\u001b[0m: 'sarcasm'"
     ]
    }
   ],
   "source": [
    "review = \" \"\n",
    "pred =  model(torch.tensor([indexer[word] for word in review.split()]))\n",
    "print(pred.item())"
   ]
  },
  {
   "cell_type": "code",
   "execution_count": null,
   "id": "b415936e",
   "metadata": {},
   "outputs": [],
   "source": []
  }
 ],
 "metadata": {
  "kernelspec": {
   "display_name": "Python 3 (ipykernel)",
   "language": "python",
   "name": "python3"
  },
  "language_info": {
   "codemirror_mode": {
    "name": "ipython",
    "version": 3
   },
   "file_extension": ".py",
   "mimetype": "text/x-python",
   "name": "python",
   "nbconvert_exporter": "python",
   "pygments_lexer": "ipython3",
   "version": "3.10.11"
  }
 },
 "nbformat": 4,
 "nbformat_minor": 5
}
